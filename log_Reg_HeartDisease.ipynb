{
  "cells": [
    {
      "cell_type": "markdown",
      "id": "4642cbe5-938a-4afc-8a72-25f4d08b0310",
      "metadata": {
        "id": "4642cbe5-938a-4afc-8a72-25f4d08b0310"
      },
      "source": [
        "# Logistic Regression Multiple Features"
      ]
    },
    {
      "cell_type": "markdown",
      "id": "2bdc5cfb-9a85-4f95-9679-00e666f3fc72",
      "metadata": {
        "id": "2bdc5cfb-9a85-4f95-9679-00e666f3fc72"
      },
      "source": [
        "## Normalisasi Data"
      ]
    },
    {
      "cell_type": "code",
      "source": [
        "#@title Install Go, `goimports` and GoNB code.\n",
        "\n",
        "# Install Go and goimports.\n",
        "!mkdir -p cache\n",
        "!wget -q -O cache/go.tar.gz 'https://go.dev/dl/go1.22.0.linux-amd64.tar.gz'\n",
        "!tar xzf cache/go.tar.gz\n",
        "%env GOROOT=/content/go\n",
        "!ln -sf \"/content/go/bin/go\" /usr/bin/go\n",
        "!go version\n",
        "\n",
        "# Install gonb, goimports, gopls.\n",
        "!go install github.com/janpfeifer/gonb@latest\n",
        "!ln -sf /root/go/bin/gonb /usr/bin/gonb\n",
        "!go install golang.org/x/tools/cmd/goimports@latest\n",
        "!ln -sf /root/go/bin/goimports /usr/bin/goimports\n",
        "!go install golang.org/x/tools/gopls@latest\n",
        "!ln -sf /root/go/bin/gopls /usr/bin/gopls\n",
        "\n",
        "# Install gonb kernel configuration.\n",
        "!gonb --install --logtostderr\n",
        "\n",
        "# Python code to replace ipython kernel with GoNB.\n",
        "import os\n",
        "import colab_kernel_launcher\n",
        "\n",
        "call_kernel_code='''\n",
        "import os\n",
        "import sys\n",
        "\n",
        "connection_file = sys.argv[2]\n",
        "os\n",
        "try:\n",
        "  os.execl(\"/usr/bin/gonb\", \"/usr/bin/gonb\", \"--kernel\", connection_file)\n",
        "finally:\n",
        "  from ipykernel import kernelapp as app\n",
        "  app.launch_new_instance()\n",
        "'''\n",
        "new_file = '/tmp/gonb_ipykernel_launcher.py'\n",
        "old_file = colab_kernel_launcher.__file__\n",
        "with open(new_file, 'w') as f:\n",
        "  f.write(call_kernel_code)\n",
        "os.replace(new_file, old_file)\n",
        "\n",
        "# Finally kill current kernel to force restart.\n",
        "import os; import sys; sys.stdout.flush(); os.kill(os.getpid(), 9)\n"
      ],
      "metadata": {
        "colab": {
          "base_uri": "https://localhost:8080/",
          "height": 144
        },
        "id": "pSRZgdjJEhci",
        "outputId": "a8eafa82-1da7-45a5-dcf8-b7b829d381dd"
      },
      "id": "pSRZgdjJEhci",
      "execution_count": 2,
      "outputs": [
        {
          "output_type": "stream",
          "name": "stdout",
          "text": [
            "Set: GOROOT=\"/content/go\"\n",
            "go version go1.22.0 linux/amd64\n"
          ]
        },
        {
          "output_type": "stream",
          "name": "stderr",
          "text": [
            "I0409 09:21:13.864462   11545 install.go:116] \u001b[7;39;32m[a5395e22]\u001b[0m Go (gonb) kernel configuration installed in \"/root/.local/share/jupyter/kernels/gonb/kernel.json\".\n"
          ]
        },
        {
          "output_type": "display_data",
          "data": {
            "text/html": [
              "\n",
              "<style>\n",
              ".gonb-err-location {\n",
              "\tbackground: var(--jp-err-color2);  \n",
              "\tborder-radius: 3px;\n",
              "\tborder-style: dotted;\n",
              "\tborder-width: 1px;\n",
              "\tborder-color: var(--jp-border-color2);\n",
              "}\n",
              ".gonb-err-location:hover {\n",
              "\tborder-width: 2px;\n",
              "\tborder-style: solid;\n",
              "\tborder-color: var(--jp-border-color2);\n",
              "}\n",
              ".gonb-err-context {\n",
              "\tdisplay: none;\n",
              "}\n",
              ".gonb-err-location:hover + .gonb-err-context {\n",
              "\tbackground: var(--jp-dialog-background);  \n",
              "\tborder-radius: 3px;\n",
              "\tborder-style: solid;\n",
              "\tborder-width: 1px;\n",
              "\tborder-color: var(--jp-border-color2);\n",
              "\tdisplay: block;\n",
              "\twhite-space: pre;\n",
              "\tfont-family: monospace;\n",
              "}\n",
              ".gonb-err-line {\n",
              "\tborder-radius: 3px;\n",
              "\tborder-style: dotted;\n",
              "\tborder-width: 1px;\t\n",
              "\tborder-color: var(--jp-border-color2);\n",
              "\tbackground-color: var(--jp-rendermime-err-background);\n",
              "\tfont-weight: bold;\n",
              "}\n",
              ".gonb-cell-line-info {\n",
              "\tbackground: var(--jp-layout-color2);\n",
              "\tcolor: #999;\n",
              "\tmargin: 0.1em;\n",
              "\tborder: 1px solid var(--jp-border-color1);\n",
              "\tpadding-left: 0.2em;\n",
              "\tpadding-right: 0.2em;\n",
              "}\n",
              "</style>\n",
              "<div class=\"lm-Widget p-Widget lm-Panel p-Panel jp-OutputArea-child\">\n",
              "<div class=\"lm-Widget p-Widget jp-RenderedText jp-mod-trusted jp-OutputArea-output\" data-mime-type=\"application/vnd.jupyter.stderr\" style=\"font-family: monospace;\">\n",
              "\n",
              "<span class=\"gonb-cell-line-info\">Cell[2]: Line 1</span>\n",
              "<span class=\"gonb-err-location\">/tmp/gonb_6c390cd1/main.go:3:1: </span> illegal character U+0023 '#'\n",
              "<div class=\"gonb-err-context\">\n",
              "package main\n",
              "\n",
              "<div class=\"gonb-err-line\">#@title Install Go, `goimports` and GoNB code.\n",
              "</div>\n",
              "# Install Go and goimports.\n",
              "\n",
              "</div>\n",
              "\n",
              "<br/>\n",
              "\n",
              "</div>\n"
            ]
          },
          "metadata": {}
        },
        {
          "output_type": "error",
          "ename": "ERROR",
          "evalue": "parsing go files in TempDir \"/tmp/gonb_6c390cd1\": /tmp/gonb_6c390cd1/main.go:3:1: illegal character U+0023 '#'",
          "traceback": [
            "parsing go files in TempDir \"/tmp/gonb_6c390cd1\": /tmp/gonb_6c390cd1/main.go:3:1: illegal character U+0023 '#'"
          ]
        }
      ]
    },
    {
      "cell_type": "code",
      "execution_count": 43,
      "id": "de7ce9fb-ce8b-43cf-8406-096aff9debc7",
      "metadata": {
        "id": "de7ce9fb-ce8b-43cf-8406-096aff9debc7"
      },
      "outputs": [],
      "source": [
        "import \"github.com/go-gota/gota/dataframe\""
      ]
    },
    {
      "cell_type": "code",
      "execution_count": 44,
      "id": "7bc146de-4576-4191-bbda-74c0b920dc31",
      "metadata": {
        "id": "7bc146de-4576-4191-bbda-74c0b920dc31"
      },
      "outputs": [],
      "source": [
        "func getDataframe(file string) (dataframe.DataFrame, error) {\n",
        "    var df dataframe.DataFrame\n",
        "    f, err := os.Open(file)\n",
        "    if err != nil {\n",
        "        return df, err\n",
        "    }\n",
        "    defer f.Close()\n",
        "\n",
        "    return dataframe.ReadCSV(f), nil\n",
        "}"
      ]
    },
    {
      "cell_type": "code",
      "execution_count": 45,
      "id": "6d2500be-c6e8-461b-b1a3-60fbe6fce6c0",
      "metadata": {
        "colab": {
          "base_uri": "https://localhost:8080/"
        },
        "id": "6d2500be-c6e8-461b-b1a3-60fbe6fce6c0",
        "outputId": "0059326e-cf97-4810-d46d-fbf39528a7bd"
      },
      "outputs": [
        {
          "output_type": "stream",
          "name": "stdout",
          "text": [
            "[303x14] DataFrame\n",
            "\n",
            "    \\ufeffage sex   cp    trestbps chol  fbs   restecg thalach exang oldpeak  ...\n",
            " 0: 63        1     0     145      233   1     2       150     0     2.300000 ...\n",
            " 1: 67        1     3     160      286   0     2       108     1     1.500000 ...\n",
            " 2: 67        1     3     120      229   0     2       129     1     2.600000 ...\n",
            " 3: 37        1     2     130      250   0     0       187     0     3.500000 ...\n",
            " 4: 41        0     1     130      204   0     2       172     0     1.400000 ...\n",
            " 5: 56        1     1     120      236   0     0       178     0     0.800000 ...\n",
            " 6: 62        0     3     140      268   0     2       160     0     3.600000 ...\n",
            " 7: 57        0     3     120      354   0     0       163     1     0.600000 ...\n",
            " 8: 63        1     3     130      254   0     2       147     0     1.400000 ...\n",
            " 9: 53        1     3     140      203   1     2       155     1     3.100000 ...\n",
            "    ...       ...   ...   ...      ...   ...   ...     ...     ...   ...      ...\n",
            "    <int>     <int> <int> <int>    <int> <int> <int>   <int>   <int> <float>  ...\n",
            "\n",
            "Not Showing: slope <int>, ca <int>, thal <int>, target <int>\n",
            "\n",
            "[8x6] DataFrame\n",
            "\n",
            "    column   \\ufeffage sex      cp       trestbps   chol\n",
            " 0: mean     54.438944 0.679868 2.158416 131.689769 246.693069\n",
            " 1: median   56.000000 1.000000 2.000000 130.000000 241.000000\n",
            " 2: stddev   9.038662  0.467299 0.960126 17.599748  51.776918\n",
            " 3: min      29.000000 0.000000 0.000000 94.000000  126.000000\n",
            " 4: 25%      48.000000 0.000000 2.000000 120.000000 211.000000\n",
            " 5: 50%      56.000000 1.000000 2.000000 130.000000 241.000000\n",
            " 6: 75%      61.000000 1.000000 3.000000 140.000000 275.000000\n",
            " 7: max      77.000000 1.000000 3.000000 200.000000 564.000000\n",
            "    <string> <float>   <float>  <float>  <float>    <float>\n",
            "\n",
            "[8x6] DataFrame\n",
            "\n",
            "    column   fbs      restecg  thalach    exang    oldpeak\n",
            " 0: mean     0.148515 0.990099 149.607261 0.326733 1.039604\n",
            " 1: median   0.000000 1.000000 153.000000 0.000000 0.800000\n",
            " 2: stddev   0.356198 0.994971 22.875003  0.469794 1.161075\n",
            " 3: min      0.000000 0.000000 71.000000  0.000000 0.000000\n",
            " 4: 25%      0.000000 0.000000 133.000000 0.000000 0.000000\n",
            " 5: 50%      0.000000 1.000000 153.000000 0.000000 0.800000\n",
            " 6: 75%      0.000000 2.000000 166.000000 1.000000 1.600000\n",
            " 7: max      1.000000 2.000000 202.000000 1.000000 6.200000\n",
            "    <string> <float>  <float>  <float>    <float>  <float>\n",
            "\n",
            "[8x4] DataFrame\n",
            "\n",
            "    column   slope    ca       thal\n",
            " 0: mean     0.600660 0.663366 1.831683\n",
            " 1: median   1.000000 0.000000 1.000000\n",
            " 2: stddev   0.616226 0.934375 0.956705\n",
            " 3: min      0.000000 0.000000 1.000000\n",
            " 4: 25%      0.000000 0.000000 1.000000\n",
            " 5: 50%      1.000000 0.000000 1.000000\n",
            " 6: 75%      1.000000 1.000000 3.000000\n",
            " 7: max      2.000000 3.000000 3.000000\n",
            "    <string> <float>  <float>  <float>\n",
            "\n"
          ]
        }
      ],
      "source": [
        "%%\n",
        "df, err := getDataframe(\"Heart-disease.csv\")\n",
        "if err != nil {\n",
        "    fmt.Println(err)\n",
        "    return\n",
        "}\n",
        "\n",
        "fmt.Println(df)\n",
        "fmt.Println(df.Select([]int{0,1,2,3,4}).Describe())\n",
        "fmt.Println(df.Select([]int{5,6,7,8,9}).Describe())\n",
        "fmt.Println(df.Select([]int{10,11,12}).Describe())"
      ]
    },
    {
      "cell_type": "code",
      "execution_count": 46,
      "id": "1262869e-da64-4ceb-8103-109fc52d86ed",
      "metadata": {
        "id": "1262869e-da64-4ceb-8103-109fc52d86ed"
      },
      "outputs": [],
      "source": [
        "%%\n",
        "minMax := []map[string]float64{\n",
        "    map[string]float64{ \"min\" : 29.0, \"max\" : 77.0 },\n",
        "    map[string]float64{ \"min\" : 0.0, \"max\" : 1.0 },\n",
        "    map[string]float64{ \"min\" : 0.0, \"max\" : 3.0 },\n",
        "    map[string]float64{ \"min\" : 94.0, \"max\" : 200.0 },\n",
        "    map[string]float64{ \"min\" : 126.0, \"max\" : 564.0 },\n",
        "    map[string]float64{ \"min\" : 0.0, \"max\" : 1.0 },\n",
        "    map[string]float64{ \"min\" : 0.0, \"max\" : 2.0 },\n",
        "    map[string]float64{ \"min\" : 71.0, \"max\" : 202.0 },\n",
        "    map[string]float64{ \"min\" : 0.0, \"max\" : 1.0 },\n",
        "    map[string]float64{ \"min\" : 0.0, \"max\" : 6.2 },\n",
        "    map[string]float64{ \"min\" : 0.0, \"max\" : 2.0 },\n",
        "    map[string]float64{ \"min\" : 0.0, \"max\" : 3.0 },\n",
        "    map[string]float64{ \"min\" : 1.0, \"max\" : 4.0 },\n",
        "}\n",
        "\n",
        "// Open the loan dataset file.\n",
        "f, err := os.Open(\"Heart-disease.csv\")\n",
        "if err != nil {\n",
        "    log.Fatal(err)\n",
        "}\n",
        "defer f.Close()\n",
        "\n",
        "// Create a new CSV reader reading from the opened file.\n",
        "reader := csv.NewReader(f)\n",
        "reader.FieldsPerRecord = 14\n",
        "\n",
        "// Read in all of the CSV records\n",
        "rawCSVData, err := reader.ReadAll()\n",
        "if err != nil {\n",
        "    log.Fatal(err)\n",
        "}\n",
        "\n",
        "// Create the output file.\n",
        "f, err = os.Create(\"01-clean_heart.csv\")\n",
        "if err != nil {\n",
        "    log.Fatal(err)\n",
        "}\n",
        "defer f.Close()\n",
        "\n",
        "// Create a CSV writer.\n",
        "w := csv.NewWriter(f)\n",
        "\n",
        "// Sequentially move the rows writing out the parsed values.\n",
        "for idx, record := range rawCSVData {\n",
        "\n",
        "    // Skip the header row.\n",
        "    if idx == 0 {\n",
        "        // Write the header to the output file.\n",
        "        if err := w.Write(record); err != nil {\n",
        "            log.Fatal(err)\n",
        "        }\n",
        "        continue\n",
        "    }\n",
        "\n",
        "    // Initialize a slice to hold our parsed values.\n",
        "    outRecord := make([]string, 14)\n",
        "\n",
        "    for i, v := range record {\n",
        "        if i == 13 {\n",
        "            outRecord[i] = v\n",
        "            continue\n",
        "        }\n",
        "        value, err := strconv.ParseFloat(v, 64)\n",
        "        if err != nil {\n",
        "            log.Fatal(err)\n",
        "        }\n",
        "        outRecord[i] = strconv.FormatFloat((value-minMax[i][\"min\"])/(minMax[i][\"max\"]-minMax[i][\"min\"]), 'f', 4, 64)\n",
        "    }\n",
        "\n",
        "    // Write the record to the output file.\n",
        "    if err := w.Write(outRecord); err != nil {\n",
        "        log.Fatal(err)\n",
        "    }\n",
        "}\n",
        "\n",
        "// Write any buffered data to the underlying writer (standard output).\n",
        "w.Flush()\n",
        "\n",
        "if err := w.Error(); err != nil {\n",
        "    log.Fatal(err)\n",
        "}"
      ]
    },
    {
      "cell_type": "markdown",
      "id": "551e3f0f-0f11-4668-9234-dbc72a126c96",
      "metadata": {
        "id": "551e3f0f-0f11-4668-9234-dbc72a126c96"
      },
      "source": [
        "## Membagi Data menjadi Training dan Test Set"
      ]
    },
    {
      "cell_type": "code",
      "execution_count": 47,
      "id": "16dccf02-44ec-4b36-b879-1bdbcb249215",
      "metadata": {
        "id": "16dccf02-44ec-4b36-b879-1bdbcb249215"
      },
      "outputs": [],
      "source": [
        "%%\n",
        "df, err := getDataframe(\"01-clean_heart.csv\")\n",
        "if err != nil {\n",
        "  fmt.Println(err)\n",
        "  return\n",
        "}\n",
        "\n",
        "trainingNum := (4 * df.Nrow()) / 5\n",
        "\n",
        "// Shuffling data\n",
        "allIdx := make([]int, df.Nrow())\n",
        "for i := range allIdx {\n",
        "  allIdx[i] = i\n",
        "}\n",
        "rand.Shuffle(len(allIdx), func(i, j int) { allIdx[i], allIdx[j] = allIdx[j], allIdx[i] })\n",
        "\n",
        "// Gunakan indeks acak untuk split\n",
        "trainingIdx := allIdx[:trainingNum]\n",
        "testIdx := allIdx[trainingNum:]\n",
        "\n",
        "trainingDF := df.Subset(trainingIdx)\n",
        "testDF := df.Subset(testIdx)\n",
        "\n",
        "setMap := map[int]dataframe.DataFrame{\n",
        "    0: trainingDF,\n",
        "    1: testDF,\n",
        "}\n",
        "\n",
        "for idx, setName := range []string{\"01-train-heart.csv\", \"01-test-heart.csv\"} {\n",
        "    f, err := os.Create(setName)\n",
        "    if err != nil {\n",
        "        log.Fatal(err)\n",
        "    }\n",
        "    defer f.Close()\n",
        "\n",
        "    w := bufio.NewWriter(f)\n",
        "    // Set IncludeHeader to false\n",
        "    if err := setMap[idx].WriteCSV(w, dataframe.WriteHeader(false)); err != nil {\n",
        "        log.Fatal(err)\n",
        "    }\n",
        "}"
      ]
    },
    {
      "cell_type": "markdown",
      "id": "68fdc9b2-4402-4562-8ea3-709da71d1f89",
      "metadata": {
        "id": "68fdc9b2-4402-4562-8ea3-709da71d1f89"
      },
      "source": [
        "## Menggunakan goml untuk Logistic Regression\n",
        "\n"
      ]
    },
    {
      "cell_type": "code",
      "execution_count": 48,
      "id": "d46bdfe7-095a-4d3e-8906-e5b2583ecf06",
      "metadata": {
        "id": "d46bdfe7-095a-4d3e-8906-e5b2583ecf06"
      },
      "outputs": [],
      "source": [
        "import (\n",
        "    \"github.com/cdipaolo/goml/base\"\n",
        "    \"github.com/cdipaolo/goml/linear\"\n",
        "    \"gonum.org/v1/plot\"\n",
        "    \"gonum.org/v1/plot/plotter\"\n",
        "    \"gonum.org/v1/plot/plotutil\"\n",
        "    \"github.com/janpfeifer/gonb/gonbui\"\n",
        ")"
      ]
    },
    {
      "cell_type": "code",
      "execution_count": 49,
      "id": "6d0582a0-0f1b-4b7c-9800-a447d2a2f061",
      "metadata": {
        "id": "6d0582a0-0f1b-4b7c-9800-a447d2a2f061"
      },
      "outputs": [],
      "source": [
        "type ConfusionMatrix struct {\n",
        "\tpositive      int\n",
        "\tnegative      int\n",
        "\ttruePositive  int\n",
        "\ttrueNegative  int\n",
        "\tfalsePositive int\n",
        "\tfalseNegative int\n",
        "\trecall        float64\n",
        "\tprecision     float64\n",
        "\taccuracy      float64\n",
        "}"
      ]
    },
    {
      "cell_type": "code",
      "execution_count": 50,
      "id": "0594a575-b24c-4bbe-89ed-5e05387f257a",
      "metadata": {
        "id": "0594a575-b24c-4bbe-89ed-5e05387f257a"
      },
      "outputs": [],
      "source": [
        "func (cm ConfusionMatrix) String() string {\n",
        "\treturn fmt.Sprintf(\"\\tPositives: %d\\n\\tNegatives: %d\\n\\tTrue Positives: %d\\n\\tTrue Negatives: %d\\n\\tFalse Positives: %d\\n\\tFalse Negatives: %d\\n\\n\\tRecall: %.2f\\n\\tPrecision: %.2f\\n\\tAccuracy: %.2f\\n\",\n",
        "\t\tcm.positive, cm.negative, cm.truePositive, cm.trueNegative, cm.falsePositive, cm.falseNegative, cm.recall, cm.precision, cm.accuracy)\n",
        "}"
      ]
    },
    {
      "cell_type": "code",
      "execution_count": 51,
      "id": "01bc915b-0930-437d-ab5b-acd92d180360",
      "metadata": {
        "id": "01bc915b-0930-437d-ab5b-acd92d180360"
      },
      "outputs": [],
      "source": [
        "func tryValues(learningRate float64, regularization float64, iterations int, decisionBoundary float64, xTrain, xTest [][]float64, yTrain, yTest []float64) (*ConfusionMatrix, *linear.Logistic, error) {\n",
        "\tcm := ConfusionMatrix{}\n",
        "\tfor _, y := range yTest {\n",
        "\t\tif y == 1.0 {\n",
        "\t\t\tcm.positive++\n",
        "\t\t}\n",
        "\t\tif y == 0.0 {\n",
        "\t\t\tcm.negative++\n",
        "\t\t}\n",
        "\t}\n",
        "\n",
        "\t// Instantiate and Learn the Model\n",
        "\tmodel := linear.NewLogistic(base.BatchGA, learningRate, regularization, iterations, xTrain, yTrain)\n",
        "\tmodel.Output = ioutil.Discard\n",
        "\terr := model.Learn()\n",
        "\tif err != nil {\n",
        "\t\treturn nil, nil, err\n",
        "\t}\n",
        "\n",
        "\t// Evaluate the Model on the Test data\n",
        "\tfor i := range xTest {\n",
        "\t\tprediction, err := model.Predict(xTest[i])\n",
        "\t\tif err != nil {\n",
        "\t\t\treturn nil, nil, err\n",
        "\t\t}\n",
        "\t\ty := int(yTest[i])\n",
        "\t\tpositive := prediction[0] >= decisionBoundary\n",
        "\n",
        "\t\tif y == 1 && positive {\n",
        "\t\t\tcm.truePositive++\n",
        "\t\t}\n",
        "\t\tif y == 1 && !positive {\n",
        "\t\t\tcm.falseNegative++\n",
        "\t\t}\n",
        "\t\tif y == 0 && positive {\n",
        "\t\t\tcm.falsePositive++\n",
        "\t\t}\n",
        "\t\tif y == 0 && !positive {\n",
        "\t\t\tcm.trueNegative++\n",
        "\t\t}\n",
        "\t}\n",
        "\n",
        "\t// Calculate Evaluation Metrics\n",
        "\tcm.recall = float64(cm.truePositive) / float64(cm.positive)\n",
        "\tcm.precision = float64(cm.truePositive) / (float64(cm.truePositive) + float64(cm.falsePositive))\n",
        "\tcm.accuracy = float64(float64(cm.truePositive)+float64(cm.trueNegative)) / float64(float64(cm.positive)+float64(cm.negative))\n",
        "\treturn &cm, model, nil\n",
        "}"
      ]
    },
    {
      "cell_type": "code",
      "execution_count": 52,
      "id": "58a576ce-103a-4406-8930-7111127245af",
      "metadata": {
        "colab": {
          "base_uri": "https://localhost:8080/"
        },
        "id": "58a576ce-103a-4406-8930-7111127245af",
        "outputId": "fd848d09-a430-4683-d92b-1bd812f2055b"
      },
      "outputs": [
        {
          "output_type": "stream",
          "name": "stdout",
          "text": [
            "with Model: h(θ,x) = 1 / (1 + exp(-θx))\n",
            "θx = -0.810 + -0.07354(x[1]) + 0.24267(x[2]) + 0.25792(x[3]) + -0.02443(x[4]) + -0.10540(x[5]) + 0.00633(x[6]) + 0.12710(x[7]) + -0.93266(x[8]) + 0.95590(x[9]) + 0.47717(x[10]) + 0.42280(x[11]) + 1.00768(x[12]) + 0.98205(x[13])\n",
            "\n",
            "with Confusion Matrix:\n",
            "\tPositives: 25\n",
            "\tNegatives: 36\n",
            "\tTrue Positives: 23\n",
            "\tTrue Negatives: 33\n",
            "\tFalse Positives: 3\n",
            "\tFalse Negatives: 2\n",
            "\n",
            "\tRecall: 0.92\n",
            "\tPrecision: 0.88\n",
            "\tAccuracy: 0.92\n",
            "\n",
            "\n"
          ]
        }
      ],
      "source": [
        "%%\n",
        "xTrain, yTrain, err := base.LoadDataFromCSV(\"01-train-heart.csv\")\n",
        "if err != nil {\n",
        "    fmt.Println(err)\n",
        "    return\n",
        "}\n",
        "\n",
        "xTest, yTest, err := base.LoadDataFromCSV(\"01-test-heart.csv\")\n",
        "if err != nil {\n",
        "    fmt.Println(err)\n",
        "    return\n",
        "}\n",
        "\n",
        "db := float64(0.5)\n",
        "cm, model, err := tryValues(0.0001, 0.0, 1000, db, xTrain, xTest, yTrain, yTest)\n",
        "if err != nil {\n",
        "    fmt.Println(err)\n",
        "    return\n",
        "}\n",
        "\n",
        "fmt.Printf(\"with Model: %s\\n\\n\", model)\n",
        "fmt.Printf(\"with Confusion Matrix:\\n%s\\n\\n\", cm)"
      ]
    }
  ],
  "metadata": {
    "kernelspec": {
      "display_name": "Go (gonb)",
      "language": "go",
      "name": "gonb"
    },
    "language_info": {
      "codemirror_mode": "",
      "file_extension": ".go",
      "mimetype": "",
      "name": "go",
      "nbconvert_exporter": "",
      "pygments_lexer": "",
      "version": "go1.22.0"
    },
    "colab": {
      "provenance": []
    }
  },
  "nbformat": 4,
  "nbformat_minor": 5
}